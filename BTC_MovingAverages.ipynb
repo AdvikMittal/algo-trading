{
 "cells": [
  {
   "cell_type": "code",
   "execution_count": 1,
   "metadata": {},
   "outputs": [],
   "source": [
    "import numpy as np \n",
    "import pandas as pd\n",
    "import matplotlib.pyplot as plt\n",
    "import matplotlib\n",
    "import datetime"
   ]
  },
  {
   "cell_type": "code",
   "execution_count": 2,
   "metadata": {},
   "outputs": [],
   "source": [
    "%matplotlib widget"
   ]
  },
  {
   "cell_type": "code",
   "execution_count": 3,
   "metadata": {},
   "outputs": [],
   "source": [
    "df = pd.read_csv(\"data/Bitfinex_BTCUSD_1h.csv\", usecols = ['Date', 'Close'])"
   ]
  },
  {
   "cell_type": "code",
   "execution_count": 4,
   "metadata": {},
   "outputs": [],
   "source": [
    "data = df.iloc[::-1]"
   ]
  },
  {
   "cell_type": "code",
   "execution_count": 5,
   "metadata": {},
   "outputs": [],
   "source": [
    "data.reset_index(inplace = True, drop = True)"
   ]
  },
  {
   "cell_type": "code",
   "execution_count": 6,
   "metadata": {},
   "outputs": [
    {
     "data": {
      "text/html": [
       "<div>\n",
       "<style scoped>\n",
       "    .dataframe tbody tr th:only-of-type {\n",
       "        vertical-align: middle;\n",
       "    }\n",
       "\n",
       "    .dataframe tbody tr th {\n",
       "        vertical-align: top;\n",
       "    }\n",
       "\n",
       "    .dataframe thead th {\n",
       "        text-align: right;\n",
       "    }\n",
       "</style>\n",
       "<table border=\"1\" class=\"dataframe\">\n",
       "  <thead>\n",
       "    <tr style=\"text-align: right;\">\n",
       "      <th></th>\n",
       "      <th>Date</th>\n",
       "      <th>Close</th>\n",
       "    </tr>\n",
       "  </thead>\n",
       "  <tbody>\n",
       "    <tr>\n",
       "      <th>0</th>\n",
       "      <td>2017-10-09 09-AM</td>\n",
       "      <td>4585.7</td>\n",
       "    </tr>\n",
       "    <tr>\n",
       "      <th>1</th>\n",
       "      <td>2017-10-09 10-AM</td>\n",
       "      <td>4594.9</td>\n",
       "    </tr>\n",
       "    <tr>\n",
       "      <th>2</th>\n",
       "      <td>2017-10-09 11-AM</td>\n",
       "      <td>4603.0</td>\n",
       "    </tr>\n",
       "    <tr>\n",
       "      <th>3</th>\n",
       "      <td>2017-10-09 12-PM</td>\n",
       "      <td>4595.5</td>\n",
       "    </tr>\n",
       "    <tr>\n",
       "      <th>4</th>\n",
       "      <td>2017-10-09 01-PM</td>\n",
       "      <td>4617.2</td>\n",
       "    </tr>\n",
       "  </tbody>\n",
       "</table>\n",
       "</div>"
      ],
      "text/plain": [
       "               Date   Close\n",
       "0  2017-10-09 09-AM  4585.7\n",
       "1  2017-10-09 10-AM  4594.9\n",
       "2  2017-10-09 11-AM  4603.0\n",
       "3  2017-10-09 12-PM  4595.5\n",
       "4  2017-10-09 01-PM  4617.2"
      ]
     },
     "execution_count": 6,
     "metadata": {},
     "output_type": "execute_result"
    }
   ],
   "source": [
    "data.head()"
   ]
  },
  {
   "cell_type": "code",
   "execution_count": 7,
   "metadata": {},
   "outputs": [],
   "source": [
    "data.insert(data.shape[1], 'SMA_7', data['Close'].rolling(window = 7*24, min_periods = 1).mean())\n",
    "data.insert(data.shape[1], 'SMA_20', data['Close'].rolling(window = 20*24, min_periods = 1).mean())\n",
    "data.insert(data.shape[1], 'SMA_50', data['Close'].rolling(window = 50*24, min_periods = 1).mean())"
   ]
  },
  {
   "cell_type": "code",
   "execution_count": 8,
   "metadata": {
    "scrolled": false
   },
   "outputs": [
    {
     "data": {
      "application/vnd.jupyter.widget-view+json": {
       "model_id": "4749df53b54e4f22948f35769536923b",
       "version_major": 2,
       "version_minor": 0
      },
      "text/plain": [
       "Canvas(toolbar=Toolbar(toolitems=[('Home', 'Reset original view', 'home', 'home'), ('Back', 'Back to previous …"
      ]
     },
     "metadata": {},
     "output_type": "display_data"
    }
   ],
   "source": [
    "data.plot(figsize = (9, 7));"
   ]
  },
  {
   "cell_type": "code",
   "execution_count": 9,
   "metadata": {},
   "outputs": [],
   "source": [
    "data.insert(data.shape[1], 'Signal', np.where(data['SMA_7'] > data['SMA_20'], 1.0, 0.0))"
   ]
  },
  {
   "cell_type": "code",
   "execution_count": 10,
   "metadata": {},
   "outputs": [],
   "source": [
    "data.insert(data.shape[1], 'Position', data['Signal'].diff())"
   ]
  },
  {
   "cell_type": "code",
   "execution_count": 11,
   "metadata": {},
   "outputs": [
    {
     "data": {
      "text/html": [
       "<div>\n",
       "<style scoped>\n",
       "    .dataframe tbody tr th:only-of-type {\n",
       "        vertical-align: middle;\n",
       "    }\n",
       "\n",
       "    .dataframe tbody tr th {\n",
       "        vertical-align: top;\n",
       "    }\n",
       "\n",
       "    .dataframe thead th {\n",
       "        text-align: right;\n",
       "    }\n",
       "</style>\n",
       "<table border=\"1\" class=\"dataframe\">\n",
       "  <thead>\n",
       "    <tr style=\"text-align: right;\">\n",
       "      <th></th>\n",
       "      <th>Date</th>\n",
       "      <th>Close</th>\n",
       "      <th>SMA_7</th>\n",
       "      <th>SMA_20</th>\n",
       "      <th>SMA_50</th>\n",
       "      <th>Signal</th>\n",
       "      <th>Position</th>\n",
       "    </tr>\n",
       "  </thead>\n",
       "  <tbody>\n",
       "    <tr>\n",
       "      <th>0</th>\n",
       "      <td>2017-10-09 09-AM</td>\n",
       "      <td>4585.7</td>\n",
       "      <td>4585.700000</td>\n",
       "      <td>4585.700000</td>\n",
       "      <td>4585.700000</td>\n",
       "      <td>0.0</td>\n",
       "      <td>NaN</td>\n",
       "    </tr>\n",
       "    <tr>\n",
       "      <th>1</th>\n",
       "      <td>2017-10-09 10-AM</td>\n",
       "      <td>4594.9</td>\n",
       "      <td>4590.300000</td>\n",
       "      <td>4590.300000</td>\n",
       "      <td>4590.300000</td>\n",
       "      <td>0.0</td>\n",
       "      <td>0.0</td>\n",
       "    </tr>\n",
       "    <tr>\n",
       "      <th>2</th>\n",
       "      <td>2017-10-09 11-AM</td>\n",
       "      <td>4603.0</td>\n",
       "      <td>4594.533333</td>\n",
       "      <td>4594.533333</td>\n",
       "      <td>4594.533333</td>\n",
       "      <td>0.0</td>\n",
       "      <td>0.0</td>\n",
       "    </tr>\n",
       "    <tr>\n",
       "      <th>3</th>\n",
       "      <td>2017-10-09 12-PM</td>\n",
       "      <td>4595.5</td>\n",
       "      <td>4594.775000</td>\n",
       "      <td>4594.775000</td>\n",
       "      <td>4594.775000</td>\n",
       "      <td>0.0</td>\n",
       "      <td>0.0</td>\n",
       "    </tr>\n",
       "    <tr>\n",
       "      <th>4</th>\n",
       "      <td>2017-10-09 01-PM</td>\n",
       "      <td>4617.2</td>\n",
       "      <td>4599.260000</td>\n",
       "      <td>4599.260000</td>\n",
       "      <td>4599.260000</td>\n",
       "      <td>0.0</td>\n",
       "      <td>0.0</td>\n",
       "    </tr>\n",
       "  </tbody>\n",
       "</table>\n",
       "</div>"
      ],
      "text/plain": [
       "               Date   Close        SMA_7       SMA_20       SMA_50  Signal  \\\n",
       "0  2017-10-09 09-AM  4585.7  4585.700000  4585.700000  4585.700000     0.0   \n",
       "1  2017-10-09 10-AM  4594.9  4590.300000  4590.300000  4590.300000     0.0   \n",
       "2  2017-10-09 11-AM  4603.0  4594.533333  4594.533333  4594.533333     0.0   \n",
       "3  2017-10-09 12-PM  4595.5  4594.775000  4594.775000  4594.775000     0.0   \n",
       "4  2017-10-09 01-PM  4617.2  4599.260000  4599.260000  4599.260000     0.0   \n",
       "\n",
       "   Position  \n",
       "0       NaN  \n",
       "1       0.0  \n",
       "2       0.0  \n",
       "3       0.0  \n",
       "4       0.0  "
      ]
     },
     "execution_count": 11,
     "metadata": {},
     "output_type": "execute_result"
    }
   ],
   "source": [
    "data.head()"
   ]
  },
  {
   "cell_type": "code",
   "execution_count": 12,
   "metadata": {},
   "outputs": [
    {
     "data": {
      "application/vnd.jupyter.widget-view+json": {
       "model_id": "abee4cead87b499295b2425b408ef89a",
       "version_major": 2,
       "version_minor": 0
      },
      "text/plain": [
       "Canvas(toolbar=Toolbar(toolitems=[('Home', 'Reset original view', 'home', 'home'), ('Back', 'Back to previous …"
      ]
     },
     "metadata": {},
     "output_type": "display_data"
    }
   ],
   "source": [
    "plt.figure(figsize = (9,7))\n",
    "# plot close price, short-term and long-term moving averages \n",
    "data['Close'].plot(color = 'k', label= 'Close Price') \n",
    "data['SMA_7'].plot(color = 'b',label = '7-day SMA') \n",
    "data['SMA_20'].plot(color = 'g', label = '20-day SMA')\n",
    "\n",
    "# plot ‘buy’ signals\n",
    "plt.plot(data[data['Position'] == 1].index, \n",
    "         data['SMA_7'][data['Position'] == 1], \n",
    "         '^', markersize = 10, color = 'lime', label = 'buy')\n",
    "\n",
    "# plot ‘sell’ signals\n",
    "plt.plot(data[data['Position'] == -1].index, \n",
    "         data['SMA_7'][data['Position'] == -1], \n",
    "         'v', markersize = 10, color = 'r', label = 'sell')\n",
    "\n",
    "# plot buy prices\n",
    "plt.plot(data[data['Position'] == 1].index, \n",
    "         data['Close'][data['Position'] == 1], \n",
    "         '.', markersize = 10, color = 'lime', label = 'buy price')\n",
    "\n",
    "# plot sell prices\n",
    "plt.plot(data[data['Position'] == -1].index, \n",
    "         data['Close'][data['Position'] == -1], \n",
    "         '.', markersize = 10, color = 'r', label = 'sell price')\n",
    "\n",
    "# plt.xticks(data.index, data.Date)\n",
    "plt.ylabel('Price in USD', fontsize = 15 )\n",
    "plt.xlabel('Date', fontsize = 15 )\n",
    "plt.title('BTC 7_20_SMA Crossover', fontsize = 20)\n",
    "plt.legend()\n",
    "plt.grid()\n",
    "plt.show()"
   ]
  },
  {
   "cell_type": "code",
   "execution_count": 13,
   "metadata": {},
   "outputs": [],
   "source": [
    "class Position():\n",
    "    def __init__(self, buyPrice, quantity):\n",
    "        self.buyPrice = buyPrice\n",
    "        self.quantity = quantity\n",
    "    def __str__(self):\n",
    "        return (\"buy price: \" + str(self.buyPrice) + \"\\quantity: \" + str(self.quantity))\n",
    "\n",
    "class Portfolio():\n",
    "    trades = []\n",
    "    def __init__(self, val):\n",
    "        self.val = val\n",
    "        self.pos = Position(0, 0)\n",
    "    def buyVal(self, price, value):\n",
    "        self.pos = Position(price, value/price)\n",
    "        self.val -= value\n",
    "    def sell(self, price):\n",
    "        self.val += price * self.pos.quantity\n",
    "        self.trades.append('buy: '+str(round(self.pos.buyPrice, 2))+'  quantity: '+str(round(self.pos.quantity, 5))+'  sell: '+str(round(price, 2)))"
   ]
  },
  {
   "cell_type": "code",
   "execution_count": 14,
   "metadata": {},
   "outputs": [],
   "source": [
    "def trade(pf):\n",
    "    global data\n",
    "    for i in range(data.shape[0]):\n",
    "        if(data.iloc[i].Position == 1):\n",
    "            pf.buyVal(data.iloc[i].Close, pf.val)\n",
    "        elif(data.iloc[i].Position == -1):\n",
    "            pf.sell(data.iloc[i].Close)"
   ]
  },
  {
   "cell_type": "code",
   "execution_count": 15,
   "metadata": {},
   "outputs": [],
   "source": [
    "portfolio = Portfolio(10000)\n",
    "trade(portfolio)"
   ]
  },
  {
   "cell_type": "code",
   "execution_count": 16,
   "metadata": {},
   "outputs": [
    {
     "data": {
      "text/plain": [
       "34824.075054751214"
      ]
     },
     "execution_count": 16,
     "metadata": {},
     "output_type": "execute_result"
    }
   ],
   "source": [
    "portfolio.val"
   ]
  },
  {
   "cell_type": "code",
   "execution_count": 17,
   "metadata": {},
   "outputs": [
    {
     "data": {
      "text/plain": [
       "['buy: 5655.1  quantity: 1.76832  sell: 7162.1',\n",
       " 'buy: 7716.4  quantity: 1.64129  sell: 13477.0',\n",
       " 'buy: 16671.0  quantity: 1.32684  sell: 13840.0',\n",
       " 'buy: 10790.0  quantity: 1.70189  sell: 9324.5',\n",
       " 'buy: 8019.8  quantity: 1.97876  sell: 8518.6',\n",
       " 'buy: 7587.6  quantity: 2.22156  sell: 6670.8',\n",
       " 'buy: 6634.8  quantity: 2.23361  sell: 6384.3',\n",
       " 'buy: 7420.3  quantity: 1.92176  sell: 6992.0',\n",
       " 'buy: 6686.3  quantity: 2.00962  sell: 6376.1',\n",
       " 'buy: 6697.1  quantity: 1.9133  sell: 6275.7',\n",
       " 'buy: 6614.0  quantity: 1.81544  sell: 6490.0',\n",
       " 'buy: 6450.8  quantity: 1.82647  sell: 5771.8',\n",
       " 'buy: 3959.3  quantity: 2.6626  sell: 3919.0',\n",
       " 'buy: 4090.0  quantity: 2.55127  sell: 3583.1',\n",
       " 'buy: 3698.0  quantity: 2.472  sell: 3923.0',\n",
       " 'buy: 3949.1  quantity: 2.45567  sell: 7953.92',\n",
       " 'buy: 8959.6  quantity: 2.18003  sell: 10680.0',\n",
       " 'buy: 10953.8  quantity: 2.12554  sell: 10397.0',\n",
       " 'buy: 10891.05  quantity: 2.02911  sell: 10301.0',\n",
       " 'buy: 8445.7  quantity: 2.47486  sell: 7948.4',\n",
       " 'buy: 9351.6  quantity: 2.10351  sell: 8698.8',\n",
       " 'buy: 7334.6  quantity: 2.49475  sell: 7282.1',\n",
       " 'buy: 7250.0  quantity: 2.5058  sell: 9607.5',\n",
       " 'buy: 6660.1  quantity: 3.61473  sell: 8754.0',\n",
       " 'buy: 10108.0  quantity: 3.13052  sell: 9210.9',\n",
       " 'buy: 9241.9  quantity: 3.12002  sell: 9167.14',\n",
       " 'buy: 9522.37  quantity: 3.00363  sell: 11594.0']"
      ]
     },
     "execution_count": 17,
     "metadata": {},
     "output_type": "execute_result"
    }
   ],
   "source": [
    "portfolio.trades"
   ]
  },
  {
   "cell_type": "code",
   "execution_count": null,
   "metadata": {},
   "outputs": [],
   "source": []
  }
 ],
 "metadata": {
  "kernelspec": {
   "display_name": "Python 3",
   "language": "python",
   "name": "python3"
  },
  "language_info": {
   "codemirror_mode": {
    "name": "ipython",
    "version": 3
   },
   "file_extension": ".py",
   "mimetype": "text/x-python",
   "name": "python",
   "nbconvert_exporter": "python",
   "pygments_lexer": "ipython3",
   "version": "3.6.12"
  }
 },
 "nbformat": 4,
 "nbformat_minor": 2
}
